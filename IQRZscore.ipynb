{
 "cells": [
  {
   "cell_type": "code",
   "execution_count": 19,
   "metadata": {},
   "outputs": [],
   "source": [
    "import pandas as pd\n",
    "import numpy as np\n",
    "import plotly.graph_objects as go"
   ]
  },
  {
   "cell_type": "code",
   "execution_count": 20,
   "metadata": {},
   "outputs": [],
   "source": [
    "def calculate_confidence_interval(data, window, min_periods, z_score_threshold):\n",
    "    mean = data.rolling(window=window, min_periods=min_periods).mean()\n",
    "    std = data.rolling(window=window, min_periods=min_periods).std()\n",
    "    lower_bound = mean - z_score_threshold * std\n",
    "    upper_bound = mean + z_score_threshold * std\n",
    "    return pd.DataFrame({'LowerBound': lower_bound, 'UpperBound': upper_bound})"
   ]
  },
  {
   "cell_type": "code",
   "execution_count": 21,
   "metadata": {},
   "outputs": [],
   "source": [
    "def calculate_iqr_outliers(data, multiplier):\n",
    "    Q1 = data.quantile(0.25)\n",
    "    Q3 = data.quantile(0.75)\n",
    "    IQR = Q3 - Q1\n",
    "    lower_bound = Q1 - multiplier * IQR\n",
    "    upper_bound = Q3 + multiplier * IQR\n",
    "    outliers = (data < lower_bound) | (data > upper_bound)\n",
    "    return outliers"
   ]
  },
  {
   "cell_type": "code",
   "execution_count": 22,
   "metadata": {},
   "outputs": [],
   "source": [
    "def plot_with_confidence_interval_and_forecast_outliers(actual_data, confidence_interval, forecast_data, forecast_outliers, title):\n",
    "    fig = go.Figure()\n",
    "    fig.add_trace(go.Scatter(x=actual_data.index, y=actual_data, mode='lines', name='Actual Data'))\n",
    "    fig.add_trace(go.Scatter(x=confidence_interval.index.tolist() + confidence_interval.index.tolist()[::-1], \n",
    "                             y=confidence_interval['LowerBound'].tolist() + confidence_interval['UpperBound'].tolist()[::-1], \n",
    "                             fill='toself', fillcolor='rgba(255,0,0,0.2)', line=dict(color='rgba(255,0,0,0)'), hoverinfo=\"skip\", showlegend=False))\n",
    "    fig.add_trace(go.Scatter(x=forecast_data.index, y=forecast_data[~forecast_outliers], mode='markers', name='Forecast (Non-Outliers)', marker=dict(color='blue')))\n",
    "    fig.add_trace(go.Scatter(x=forecast_data.index, y=forecast_data[forecast_outliers], mode='markers', name='Forecast (Outliers)', marker=dict(color='orange')))\n",
    "    fig.update_layout(title=title, xaxis_title=\"Date\", yaxis_title=\"Value\", legend_title=\"Legend\")\n",
    "    fig.show()"
   ]
  },
  {
   "cell_type": "code",
   "execution_count": 23,
   "metadata": {},
   "outputs": [
    {
     "name": "stdout",
     "output_type": "stream",
     "text": [
      "Q3FY21\n",
      "Q4FY21\n",
      "Q1FY22\n",
      "Q2FY22\n",
      "Q3FY22\n",
      "2409   2021-07-01\n",
      "2410   2021-10-01\n",
      "2411   2022-01-01\n",
      "2412   2022-04-01\n",
      "2413   2022-07-01\n",
      "Name: qtr, dtype: datetime64[ns]\n"
     ]
    }
   ],
   "source": [
    "\n",
    "# Load the actual data from the Excel file\n",
    "actual_data = pd.read_excel('platform_3m_actuals_new.xlsx')\n",
    "\n",
    "# Filter the data to only include the \"8k chassis\" platform\n",
    "actual_data = actual_data[actual_data['Platform'] == 'NCS_Fixed - 4.8T']\n",
    "\n",
    "\n",
    "import datetime\n",
    "\n",
    "# Function to convert quarter-year to datetime\n",
    "def convert_qtr_to_date(qtr):\n",
    "    print(qtr)\n",
    "    # Split the string into quarter and year\n",
    "    qtr, year = qtr.split('FY')\n",
    "    # Convert the quarter to month\n",
    "    if qtr == 'Q1':\n",
    "        month = 1\n",
    "    elif qtr == 'Q2':\n",
    "        month = 4\n",
    "    elif qtr == 'Q3':\n",
    "        month = 7\n",
    "    elif qtr == 'Q4':\n",
    "        month = 10\n",
    "    \n",
    "    # Convert the year to integer\n",
    "    year = int(year)\n",
    "    year = year + 2000\n",
    "    return datetime.datetime(year, month,1)\n",
    "\n",
    "# Convert the quarter-year to datetime\n",
    "actual_data['qtr'] = actual_data['qtr'].apply(convert_qtr_to_date)\n",
    "\n",
    "print(actual_data['qtr'])"
   ]
  },
  {
   "cell_type": "markdown",
   "metadata": {},
   "source": []
  },
  {
   "cell_type": "code",
   "execution_count": 24,
   "metadata": {},
   "outputs": [
    {
     "name": "stdout",
     "output_type": "stream",
     "text": [
      "Q1FY22\n",
      "Q2FY22\n",
      "Q3FY21\n",
      "Q3FY22\n",
      "Q4FY21\n",
      "Q4FY22\n",
      "604   2022-01-01\n",
      "605   2022-04-01\n",
      "606   2021-07-01\n",
      "607   2022-07-01\n",
      "608   2021-10-01\n",
      "609   2022-10-01\n",
      "Name: qtr, dtype: datetime64[ns]\n"
     ]
    }
   ],
   "source": [
    "# Load the forecast data\n",
    "forecast_data = pd.read_csv('mviai_platform_3m_forecast.csv')\n",
    "\n",
    "# Filter the forecast data to include only the '8k_Chassis' platform\n",
    "forecast_data = forecast_data[forecast_data['Platform'] == 'NCS_Fixed - 4.8T']\n",
    "\n",
    "# Convert the quarter-year to datetime\n",
    "forecast_data['qtr'] = forecast_data['qtr'].apply(convert_qtr_to_date)\n",
    "print(forecast_data['qtr'])"
   ]
  },
  {
   "cell_type": "code",
   "execution_count": 25,
   "metadata": {},
   "outputs": [
    {
     "name": "stdout",
     "output_type": "stream",
     "text": [
      "                    Platform  Forecast_3m\n",
      "qtr                                      \n",
      "2022-01-01  NCS_Fixed - 4.8T           84\n",
      "2022-04-01  NCS_Fixed - 4.8T          104\n",
      "2021-07-01  NCS_Fixed - 4.8T     13899467\n",
      "2022-07-01  NCS_Fixed - 4.8T          102\n",
      "2021-10-01  NCS_Fixed - 4.8T        36130\n",
      "2022-10-01  NCS_Fixed - 4.8T          102\n"
     ]
    }
   ],
   "source": [
    "\n",
    "\n",
    "# Filter the datasets to include only the quarters between years 2021 and 2022\n",
    "actual_data = actual_data[(actual_data['qtr'].dt.year >= 2021) & (actual_data['qtr'].dt.year <= 2022)]\n",
    "forecast_data = forecast_data[(forecast_data['qtr'].dt.year >= 2021) & (forecast_data['qtr'].dt.year <= 2022)]\n",
    "\n",
    "# Set 'qtr' as the index\n",
    "actual_data.set_index('qtr', inplace=True)\n",
    "forecast_data.set_index('qtr', inplace=True)\n",
    "\n",
    "\n",
    "#print(actual_data)\n",
    "print(forecast_data)"
   ]
  },
  {
   "cell_type": "code",
   "execution_count": 26,
   "metadata": {},
   "outputs": [
    {
     "name": "stdout",
     "output_type": "stream",
     "text": [
      "qtr\n",
      "2022-01-01    False\n",
      "2022-04-01    False\n",
      "2021-07-01    False\n",
      "2022-07-01    False\n",
      "2021-10-01    False\n",
      "2022-10-01    False\n",
      "Name: Forecast_3m, dtype: bool\n",
      "Empty DataFrame\n",
      "Columns: [Platform, Forecast_3m]\n",
      "Index: []\n"
     ]
    }
   ],
   "source": [
    "# Calculate the confidence interval for the 'Bookings_3m' column in the actual data\n",
    "confidence_interval = calculate_confidence_interval(actual_data['Bookings_3m'], window=3, min_periods=1, z_score_threshold=3)\n",
    "\n",
    "# Calculate outliers in the forecast data\n",
    "forecast_outliers = calculate_iqr_outliers(forecast_data['Forecast_3m'], multiplier=1.5)\n",
    "print(forecast_outliers)\n",
    "\n",
    "#print the outliers if they are true\n",
    "print(forecast_data[forecast_outliers])"
   ]
  },
  {
   "cell_type": "code",
   "execution_count": 27,
   "metadata": {},
   "outputs": [
    {
     "data": {
      "application/vnd.plotly.v1+json": {
       "config": {
        "plotlyServerURL": "https://plot.ly"
       },
       "data": [
        {
         "mode": "lines",
         "name": "Actual Data",
         "type": "scatter",
         "x": [
          "2021-07-01T00:00:00",
          "2021-10-01T00:00:00",
          "2022-01-01T00:00:00",
          "2022-04-01T00:00:00",
          "2022-07-01T00:00:00"
         ],
         "y": [
          2,
          104,
          58,
          53,
          91
         ]
        },
        {
         "fill": "toself",
         "fillcolor": "rgba(255,0,0,0.2)",
         "hoverinfo": "skip",
         "line": {
          "color": "rgba(255,0,0,0)"
         },
         "showlegend": false,
         "type": "scatter",
         "x": [
          "2021-07-01T00:00:00",
          "2021-10-01T00:00:00",
          "2022-01-01T00:00:00",
          "2022-04-01T00:00:00",
          "2022-07-01T00:00:00",
          "2022-07-01T00:00:00",
          "2022-04-01T00:00:00",
          "2022-01-01T00:00:00",
          "2021-10-01T00:00:00",
          "2021-07-01T00:00:00"
         ],
         "y": [
          null,
          -163.37467504308353,
          -98.57823536925753,
          -12.67193659423637,
          5.3898106695389885,
          129.27685599712765,
          156.0052699275697,
          207.91156870259084,
          269.3746750430835,
          null
         ]
        },
        {
         "marker": {
          "color": "blue"
         },
         "mode": "markers",
         "name": "Forecast (Non-Outliers)",
         "type": "scatter",
         "x": [
          "2022-01-01T00:00:00",
          "2022-04-01T00:00:00",
          "2021-07-01T00:00:00",
          "2022-07-01T00:00:00",
          "2021-10-01T00:00:00",
          "2022-10-01T00:00:00"
         ],
         "y": [
          84,
          104,
          13899467,
          102,
          36130,
          102
         ]
        },
        {
         "marker": {
          "color": "orange"
         },
         "mode": "markers",
         "name": "Forecast (Outliers)",
         "type": "scatter",
         "x": [
          "2022-01-01T00:00:00",
          "2022-04-01T00:00:00",
          "2021-07-01T00:00:00",
          "2022-07-01T00:00:00",
          "2021-10-01T00:00:00",
          "2022-10-01T00:00:00"
         ],
         "y": []
        }
       ],
       "layout": {
        "legend": {
         "title": {
          "text": "Legend"
         }
        },
        "template": {
         "data": {
          "bar": [
           {
            "error_x": {
             "color": "#2a3f5f"
            },
            "error_y": {
             "color": "#2a3f5f"
            },
            "marker": {
             "line": {
              "color": "#E5ECF6",
              "width": 0.5
             },
             "pattern": {
              "fillmode": "overlay",
              "size": 10,
              "solidity": 0.2
             }
            },
            "type": "bar"
           }
          ],
          "barpolar": [
           {
            "marker": {
             "line": {
              "color": "#E5ECF6",
              "width": 0.5
             },
             "pattern": {
              "fillmode": "overlay",
              "size": 10,
              "solidity": 0.2
             }
            },
            "type": "barpolar"
           }
          ],
          "carpet": [
           {
            "aaxis": {
             "endlinecolor": "#2a3f5f",
             "gridcolor": "white",
             "linecolor": "white",
             "minorgridcolor": "white",
             "startlinecolor": "#2a3f5f"
            },
            "baxis": {
             "endlinecolor": "#2a3f5f",
             "gridcolor": "white",
             "linecolor": "white",
             "minorgridcolor": "white",
             "startlinecolor": "#2a3f5f"
            },
            "type": "carpet"
           }
          ],
          "choropleth": [
           {
            "colorbar": {
             "outlinewidth": 0,
             "ticks": ""
            },
            "type": "choropleth"
           }
          ],
          "contour": [
           {
            "colorbar": {
             "outlinewidth": 0,
             "ticks": ""
            },
            "colorscale": [
             [
              0,
              "#0d0887"
             ],
             [
              0.1111111111111111,
              "#46039f"
             ],
             [
              0.2222222222222222,
              "#7201a8"
             ],
             [
              0.3333333333333333,
              "#9c179e"
             ],
             [
              0.4444444444444444,
              "#bd3786"
             ],
             [
              0.5555555555555556,
              "#d8576b"
             ],
             [
              0.6666666666666666,
              "#ed7953"
             ],
             [
              0.7777777777777778,
              "#fb9f3a"
             ],
             [
              0.8888888888888888,
              "#fdca26"
             ],
             [
              1,
              "#f0f921"
             ]
            ],
            "type": "contour"
           }
          ],
          "contourcarpet": [
           {
            "colorbar": {
             "outlinewidth": 0,
             "ticks": ""
            },
            "type": "contourcarpet"
           }
          ],
          "heatmap": [
           {
            "colorbar": {
             "outlinewidth": 0,
             "ticks": ""
            },
            "colorscale": [
             [
              0,
              "#0d0887"
             ],
             [
              0.1111111111111111,
              "#46039f"
             ],
             [
              0.2222222222222222,
              "#7201a8"
             ],
             [
              0.3333333333333333,
              "#9c179e"
             ],
             [
              0.4444444444444444,
              "#bd3786"
             ],
             [
              0.5555555555555556,
              "#d8576b"
             ],
             [
              0.6666666666666666,
              "#ed7953"
             ],
             [
              0.7777777777777778,
              "#fb9f3a"
             ],
             [
              0.8888888888888888,
              "#fdca26"
             ],
             [
              1,
              "#f0f921"
             ]
            ],
            "type": "heatmap"
           }
          ],
          "heatmapgl": [
           {
            "colorbar": {
             "outlinewidth": 0,
             "ticks": ""
            },
            "colorscale": [
             [
              0,
              "#0d0887"
             ],
             [
              0.1111111111111111,
              "#46039f"
             ],
             [
              0.2222222222222222,
              "#7201a8"
             ],
             [
              0.3333333333333333,
              "#9c179e"
             ],
             [
              0.4444444444444444,
              "#bd3786"
             ],
             [
              0.5555555555555556,
              "#d8576b"
             ],
             [
              0.6666666666666666,
              "#ed7953"
             ],
             [
              0.7777777777777778,
              "#fb9f3a"
             ],
             [
              0.8888888888888888,
              "#fdca26"
             ],
             [
              1,
              "#f0f921"
             ]
            ],
            "type": "heatmapgl"
           }
          ],
          "histogram": [
           {
            "marker": {
             "pattern": {
              "fillmode": "overlay",
              "size": 10,
              "solidity": 0.2
             }
            },
            "type": "histogram"
           }
          ],
          "histogram2d": [
           {
            "colorbar": {
             "outlinewidth": 0,
             "ticks": ""
            },
            "colorscale": [
             [
              0,
              "#0d0887"
             ],
             [
              0.1111111111111111,
              "#46039f"
             ],
             [
              0.2222222222222222,
              "#7201a8"
             ],
             [
              0.3333333333333333,
              "#9c179e"
             ],
             [
              0.4444444444444444,
              "#bd3786"
             ],
             [
              0.5555555555555556,
              "#d8576b"
             ],
             [
              0.6666666666666666,
              "#ed7953"
             ],
             [
              0.7777777777777778,
              "#fb9f3a"
             ],
             [
              0.8888888888888888,
              "#fdca26"
             ],
             [
              1,
              "#f0f921"
             ]
            ],
            "type": "histogram2d"
           }
          ],
          "histogram2dcontour": [
           {
            "colorbar": {
             "outlinewidth": 0,
             "ticks": ""
            },
            "colorscale": [
             [
              0,
              "#0d0887"
             ],
             [
              0.1111111111111111,
              "#46039f"
             ],
             [
              0.2222222222222222,
              "#7201a8"
             ],
             [
              0.3333333333333333,
              "#9c179e"
             ],
             [
              0.4444444444444444,
              "#bd3786"
             ],
             [
              0.5555555555555556,
              "#d8576b"
             ],
             [
              0.6666666666666666,
              "#ed7953"
             ],
             [
              0.7777777777777778,
              "#fb9f3a"
             ],
             [
              0.8888888888888888,
              "#fdca26"
             ],
             [
              1,
              "#f0f921"
             ]
            ],
            "type": "histogram2dcontour"
           }
          ],
          "mesh3d": [
           {
            "colorbar": {
             "outlinewidth": 0,
             "ticks": ""
            },
            "type": "mesh3d"
           }
          ],
          "parcoords": [
           {
            "line": {
             "colorbar": {
              "outlinewidth": 0,
              "ticks": ""
             }
            },
            "type": "parcoords"
           }
          ],
          "pie": [
           {
            "automargin": true,
            "type": "pie"
           }
          ],
          "scatter": [
           {
            "fillpattern": {
             "fillmode": "overlay",
             "size": 10,
             "solidity": 0.2
            },
            "type": "scatter"
           }
          ],
          "scatter3d": [
           {
            "line": {
             "colorbar": {
              "outlinewidth": 0,
              "ticks": ""
             }
            },
            "marker": {
             "colorbar": {
              "outlinewidth": 0,
              "ticks": ""
             }
            },
            "type": "scatter3d"
           }
          ],
          "scattercarpet": [
           {
            "marker": {
             "colorbar": {
              "outlinewidth": 0,
              "ticks": ""
             }
            },
            "type": "scattercarpet"
           }
          ],
          "scattergeo": [
           {
            "marker": {
             "colorbar": {
              "outlinewidth": 0,
              "ticks": ""
             }
            },
            "type": "scattergeo"
           }
          ],
          "scattergl": [
           {
            "marker": {
             "colorbar": {
              "outlinewidth": 0,
              "ticks": ""
             }
            },
            "type": "scattergl"
           }
          ],
          "scattermapbox": [
           {
            "marker": {
             "colorbar": {
              "outlinewidth": 0,
              "ticks": ""
             }
            },
            "type": "scattermapbox"
           }
          ],
          "scatterpolar": [
           {
            "marker": {
             "colorbar": {
              "outlinewidth": 0,
              "ticks": ""
             }
            },
            "type": "scatterpolar"
           }
          ],
          "scatterpolargl": [
           {
            "marker": {
             "colorbar": {
              "outlinewidth": 0,
              "ticks": ""
             }
            },
            "type": "scatterpolargl"
           }
          ],
          "scatterternary": [
           {
            "marker": {
             "colorbar": {
              "outlinewidth": 0,
              "ticks": ""
             }
            },
            "type": "scatterternary"
           }
          ],
          "surface": [
           {
            "colorbar": {
             "outlinewidth": 0,
             "ticks": ""
            },
            "colorscale": [
             [
              0,
              "#0d0887"
             ],
             [
              0.1111111111111111,
              "#46039f"
             ],
             [
              0.2222222222222222,
              "#7201a8"
             ],
             [
              0.3333333333333333,
              "#9c179e"
             ],
             [
              0.4444444444444444,
              "#bd3786"
             ],
             [
              0.5555555555555556,
              "#d8576b"
             ],
             [
              0.6666666666666666,
              "#ed7953"
             ],
             [
              0.7777777777777778,
              "#fb9f3a"
             ],
             [
              0.8888888888888888,
              "#fdca26"
             ],
             [
              1,
              "#f0f921"
             ]
            ],
            "type": "surface"
           }
          ],
          "table": [
           {
            "cells": {
             "fill": {
              "color": "#EBF0F8"
             },
             "line": {
              "color": "white"
             }
            },
            "header": {
             "fill": {
              "color": "#C8D4E3"
             },
             "line": {
              "color": "white"
             }
            },
            "type": "table"
           }
          ]
         },
         "layout": {
          "annotationdefaults": {
           "arrowcolor": "#2a3f5f",
           "arrowhead": 0,
           "arrowwidth": 1
          },
          "autotypenumbers": "strict",
          "coloraxis": {
           "colorbar": {
            "outlinewidth": 0,
            "ticks": ""
           }
          },
          "colorscale": {
           "diverging": [
            [
             0,
             "#8e0152"
            ],
            [
             0.1,
             "#c51b7d"
            ],
            [
             0.2,
             "#de77ae"
            ],
            [
             0.3,
             "#f1b6da"
            ],
            [
             0.4,
             "#fde0ef"
            ],
            [
             0.5,
             "#f7f7f7"
            ],
            [
             0.6,
             "#e6f5d0"
            ],
            [
             0.7,
             "#b8e186"
            ],
            [
             0.8,
             "#7fbc41"
            ],
            [
             0.9,
             "#4d9221"
            ],
            [
             1,
             "#276419"
            ]
           ],
           "sequential": [
            [
             0,
             "#0d0887"
            ],
            [
             0.1111111111111111,
             "#46039f"
            ],
            [
             0.2222222222222222,
             "#7201a8"
            ],
            [
             0.3333333333333333,
             "#9c179e"
            ],
            [
             0.4444444444444444,
             "#bd3786"
            ],
            [
             0.5555555555555556,
             "#d8576b"
            ],
            [
             0.6666666666666666,
             "#ed7953"
            ],
            [
             0.7777777777777778,
             "#fb9f3a"
            ],
            [
             0.8888888888888888,
             "#fdca26"
            ],
            [
             1,
             "#f0f921"
            ]
           ],
           "sequentialminus": [
            [
             0,
             "#0d0887"
            ],
            [
             0.1111111111111111,
             "#46039f"
            ],
            [
             0.2222222222222222,
             "#7201a8"
            ],
            [
             0.3333333333333333,
             "#9c179e"
            ],
            [
             0.4444444444444444,
             "#bd3786"
            ],
            [
             0.5555555555555556,
             "#d8576b"
            ],
            [
             0.6666666666666666,
             "#ed7953"
            ],
            [
             0.7777777777777778,
             "#fb9f3a"
            ],
            [
             0.8888888888888888,
             "#fdca26"
            ],
            [
             1,
             "#f0f921"
            ]
           ]
          },
          "colorway": [
           "#636efa",
           "#EF553B",
           "#00cc96",
           "#ab63fa",
           "#FFA15A",
           "#19d3f3",
           "#FF6692",
           "#B6E880",
           "#FF97FF",
           "#FECB52"
          ],
          "font": {
           "color": "#2a3f5f"
          },
          "geo": {
           "bgcolor": "white",
           "lakecolor": "white",
           "landcolor": "#E5ECF6",
           "showlakes": true,
           "showland": true,
           "subunitcolor": "white"
          },
          "hoverlabel": {
           "align": "left"
          },
          "hovermode": "closest",
          "mapbox": {
           "style": "light"
          },
          "paper_bgcolor": "white",
          "plot_bgcolor": "#E5ECF6",
          "polar": {
           "angularaxis": {
            "gridcolor": "white",
            "linecolor": "white",
            "ticks": ""
           },
           "bgcolor": "#E5ECF6",
           "radialaxis": {
            "gridcolor": "white",
            "linecolor": "white",
            "ticks": ""
           }
          },
          "scene": {
           "xaxis": {
            "backgroundcolor": "#E5ECF6",
            "gridcolor": "white",
            "gridwidth": 2,
            "linecolor": "white",
            "showbackground": true,
            "ticks": "",
            "zerolinecolor": "white"
           },
           "yaxis": {
            "backgroundcolor": "#E5ECF6",
            "gridcolor": "white",
            "gridwidth": 2,
            "linecolor": "white",
            "showbackground": true,
            "ticks": "",
            "zerolinecolor": "white"
           },
           "zaxis": {
            "backgroundcolor": "#E5ECF6",
            "gridcolor": "white",
            "gridwidth": 2,
            "linecolor": "white",
            "showbackground": true,
            "ticks": "",
            "zerolinecolor": "white"
           }
          },
          "shapedefaults": {
           "line": {
            "color": "#2a3f5f"
           }
          },
          "ternary": {
           "aaxis": {
            "gridcolor": "white",
            "linecolor": "white",
            "ticks": ""
           },
           "baxis": {
            "gridcolor": "white",
            "linecolor": "white",
            "ticks": ""
           },
           "bgcolor": "#E5ECF6",
           "caxis": {
            "gridcolor": "white",
            "linecolor": "white",
            "ticks": ""
           }
          },
          "title": {
           "x": 0.05
          },
          "xaxis": {
           "automargin": true,
           "gridcolor": "white",
           "linecolor": "white",
           "ticks": "",
           "title": {
            "standoff": 15
           },
           "zerolinecolor": "white",
           "zerolinewidth": 2
          },
          "yaxis": {
           "automargin": true,
           "gridcolor": "white",
           "linecolor": "white",
           "ticks": "",
           "title": {
            "standoff": 15
           },
           "zerolinecolor": "white",
           "zerolinewidth": 2
          }
         }
        },
        "title": {
         "text": "8k Chassis Bookings_3m with Confidence Interval and Forecast Outliers"
        },
        "xaxis": {
         "title": {
          "text": "Date"
         }
        },
        "yaxis": {
         "title": {
          "text": "Value"
         }
        }
       }
      }
     },
     "metadata": {},
     "output_type": "display_data"
    }
   ],
   "source": [
    "# Call the function to create the plot\n",
    "plot_with_confidence_interval_and_forecast_outliers(\n",
    "    actual_data=actual_data['Bookings_3m'], \n",
    "    confidence_interval=confidence_interval, \n",
    "    forecast_data=forecast_data['Forecast_3m'], \n",
    "    forecast_outliers=forecast_outliers, \n",
    "    title='8k Chassis Bookings_3m with Confidence Interval and Forecast Outliers'\n",
    ")"
   ]
  }
 ],
 "metadata": {
  "kernelspec": {
   "display_name": "Python 3",
   "language": "python",
   "name": "python3"
  },
  "language_info": {
   "codemirror_mode": {
    "name": "ipython",
    "version": 3
   },
   "file_extension": ".py",
   "mimetype": "text/x-python",
   "name": "python",
   "nbconvert_exporter": "python",
   "pygments_lexer": "ipython3",
   "version": "3.11.3"
  },
  "orig_nbformat": 4
 },
 "nbformat": 4,
 "nbformat_minor": 2
}
