{
  "nbformat": 4,
  "nbformat_minor": 0,
  "metadata": {
    "colab": {
      "provenance": [],
      "authorship_tag": "ABX9TyODCuhPOQ57rhUAQYnKlDMT",
      "include_colab_link": true
    },
    "kernelspec": {
      "name": "python3",
      "display_name": "Python 3"
    },
    "language_info": {
      "name": "python"
    }
  },
  "cells": [
    {
      "cell_type": "markdown",
      "metadata": {
        "id": "view-in-github",
        "colab_type": "text"
      },
      "source": [
        "<a href=\"https://colab.research.google.com/github/ethancma/forecasting/blob/main/CaseStudy_Forecasting.ipynb\" target=\"_parent\"><img src=\"https://colab.research.google.com/assets/colab-badge.svg\" alt=\"Open In Colab\"/></a>"
      ]
    },
    {
      "cell_type": "markdown",
      "source": [
        "# ARIMA"
      ],
      "metadata": {
        "id": "c1YIXAME_jfW"
      }
    },
    {
      "cell_type": "code",
      "execution_count": null,
      "metadata": {
        "id": "bTlybpuEscXf"
      },
      "outputs": [],
      "source": [
        "import pandas as pd\n",
        "import seaborn as sns\n",
        "import matplotlib.pyplot as plt\n",
        "from statsmodels.tsa.arima.model import ARIMA"
      ]
    },
    {
      "cell_type": "code",
      "source": [
        "# df = pd.read_csv('/content/sample_data/platform_3m_actuals_new.csv', index_col=0, parse_dates=True)\n",
        "df = pd.read_csv('/content/sample_data/platform_3m_actuals_new.csv')"
      ],
      "metadata": {
        "id": "TlgQrStcs1se"
      },
      "execution_count": null,
      "outputs": []
    },
    {
      "cell_type": "code",
      "source": [
        "sns.set(rc={'figure.figsize': (11, 4)})\n",
        "df['datestamp'] = pd.to_datetime(df['datestamp'])\n",
        "df.set_index('datestamp', inplace=True)"
      ],
      "metadata": {
        "id": "Xe9qa-WYtGzD"
      },
      "execution_count": null,
      "outputs": []
    },
    {
      "cell_type": "code",
      "source": [
        "new_df = df.head(11)"
      ],
      "metadata": {
        "id": "m1Aypy2pvU4y"
      },
      "execution_count": null,
      "outputs": []
    },
    {
      "cell_type": "code",
      "source": [
        "train_data = new_df.iloc[::]\n",
        "test_data = new_df.iloc[::]"
      ],
      "metadata": {
        "id": "6t0zsNTotIMe"
      },
      "execution_count": null,
      "outputs": []
    },
    {
      "cell_type": "code",
      "source": [
        "model = ARIMA(train_data['Bookings_3m'], order=(1, 1, 1))  # Adjust the order as needed\n",
        "model_fit = model.fit()\n",
        "model_fit.summary()\n"
      ],
      "metadata": {
        "colab": {
          "base_uri": "https://localhost:8080/",
          "height": 545
        },
        "id": "2XS42FSrwlMX",
        "outputId": "5559854b-9188-42e5-f086-12c186168145"
      },
      "execution_count": null,
      "outputs": [
        {
          "output_type": "stream",
          "name": "stderr",
          "text": [
            "/usr/local/lib/python3.10/dist-packages/statsmodels/tsa/base/tsa_model.py:471: ValueWarning: No frequency information was provided, so inferred frequency Q-OCT will be used.\n",
            "  self._init_dates(dates, freq)\n",
            "/usr/local/lib/python3.10/dist-packages/statsmodels/tsa/base/tsa_model.py:471: ValueWarning: No frequency information was provided, so inferred frequency Q-OCT will be used.\n",
            "  self._init_dates(dates, freq)\n",
            "/usr/local/lib/python3.10/dist-packages/statsmodels/tsa/base/tsa_model.py:471: ValueWarning: No frequency information was provided, so inferred frequency Q-OCT will be used.\n",
            "  self._init_dates(dates, freq)\n"
          ]
        },
        {
          "output_type": "execute_result",
          "data": {
            "text/plain": [
              "<class 'statsmodels.iolib.summary.Summary'>\n",
              "\"\"\"\n",
              "                               SARIMAX Results                                \n",
              "==============================================================================\n",
              "Dep. Variable:            Bookings_3m   No. Observations:                   11\n",
              "Model:                 ARIMA(1, 1, 1)   Log Likelihood                 -92.803\n",
              "Date:                Thu, 13 Jul 2023   AIC                            191.607\n",
              "Time:                        21:22:36   BIC                            192.514\n",
              "Sample:                    10-31-2019   HQIC                           190.611\n",
              "                         - 04-30-2022                                         \n",
              "Covariance Type:                  opg                                         \n",
              "==============================================================================\n",
              "                 coef    std err          z      P>|z|      [0.025      0.975]\n",
              "------------------------------------------------------------------------------\n",
              "ar.L1         -0.6913      1.041     -0.664      0.507      -2.731       1.348\n",
              "ma.L1          0.0971      1.414      0.069      0.945      -2.675       2.869\n",
              "sigma2      6.728e+06   3.76e+06      1.789      0.074   -6.43e+05    1.41e+07\n",
              "===================================================================================\n",
              "Ljung-Box (L1) (Q):                   0.14   Jarque-Bera (JB):                 1.89\n",
              "Prob(Q):                              0.71   Prob(JB):                         0.39\n",
              "Heteroskedasticity (H):            5148.81   Skew:                             1.04\n",
              "Prob(H) (two-sided):                  0.00   Kurtosis:                         3.42\n",
              "===================================================================================\n",
              "\n",
              "Warnings:\n",
              "[1] Covariance matrix calculated using the outer product of gradients (complex-step).\n",
              "\"\"\""
            ],
            "text/html": [
              "<table class=\"simpletable\">\n",
              "<caption>SARIMAX Results</caption>\n",
              "<tr>\n",
              "  <th>Dep. Variable:</th>      <td>Bookings_3m</td>   <th>  No. Observations:  </th>   <td>11</td>   \n",
              "</tr>\n",
              "<tr>\n",
              "  <th>Model:</th>            <td>ARIMA(1, 1, 1)</td>  <th>  Log Likelihood     </th> <td>-92.803</td>\n",
              "</tr>\n",
              "<tr>\n",
              "  <th>Date:</th>            <td>Thu, 13 Jul 2023</td> <th>  AIC                </th> <td>191.607</td>\n",
              "</tr>\n",
              "<tr>\n",
              "  <th>Time:</th>                <td>21:22:36</td>     <th>  BIC                </th> <td>192.514</td>\n",
              "</tr>\n",
              "<tr>\n",
              "  <th>Sample:</th>             <td>10-31-2019</td>    <th>  HQIC               </th> <td>190.611</td>\n",
              "</tr>\n",
              "<tr>\n",
              "  <th></th>                   <td>- 04-30-2022</td>   <th>                     </th>    <td> </td>   \n",
              "</tr>\n",
              "<tr>\n",
              "  <th>Covariance Type:</th>        <td>opg</td>       <th>                     </th>    <td> </td>   \n",
              "</tr>\n",
              "</table>\n",
              "<table class=\"simpletable\">\n",
              "<tr>\n",
              "     <td></td>       <th>coef</th>     <th>std err</th>      <th>z</th>      <th>P>|z|</th>  <th>[0.025</th>    <th>0.975]</th>  \n",
              "</tr>\n",
              "<tr>\n",
              "  <th>ar.L1</th>  <td>   -0.6913</td> <td>    1.041</td> <td>   -0.664</td> <td> 0.507</td> <td>   -2.731</td> <td>    1.348</td>\n",
              "</tr>\n",
              "<tr>\n",
              "  <th>ma.L1</th>  <td>    0.0971</td> <td>    1.414</td> <td>    0.069</td> <td> 0.945</td> <td>   -2.675</td> <td>    2.869</td>\n",
              "</tr>\n",
              "<tr>\n",
              "  <th>sigma2</th> <td> 6.728e+06</td> <td> 3.76e+06</td> <td>    1.789</td> <td> 0.074</td> <td>-6.43e+05</td> <td> 1.41e+07</td>\n",
              "</tr>\n",
              "</table>\n",
              "<table class=\"simpletable\">\n",
              "<tr>\n",
              "  <th>Ljung-Box (L1) (Q):</th>      <td>0.14</td>   <th>  Jarque-Bera (JB):  </th> <td>1.89</td>\n",
              "</tr>\n",
              "<tr>\n",
              "  <th>Prob(Q):</th>                 <td>0.71</td>   <th>  Prob(JB):          </th> <td>0.39</td>\n",
              "</tr>\n",
              "<tr>\n",
              "  <th>Heteroskedasticity (H):</th> <td>5148.81</td> <th>  Skew:              </th> <td>1.04</td>\n",
              "</tr>\n",
              "<tr>\n",
              "  <th>Prob(H) (two-sided):</th>     <td>0.00</td>   <th>  Kurtosis:          </th> <td>3.42</td>\n",
              "</tr>\n",
              "</table><br/><br/>Warnings:<br/>[1] Covariance matrix calculated using the outer product of gradients (complex-step)."
            ]
          },
          "metadata": {},
          "execution_count": 8
        }
      ]
    },
    {
      "cell_type": "code",
      "source": [
        "forecast = model_fit.forecast(steps=len(test_data))"
      ],
      "metadata": {
        "id": "fVokKHiozb8r"
      },
      "execution_count": null,
      "outputs": []
    },
    {
      "cell_type": "code",
      "source": [
        "comparison = pd.DataFrame({'Actual': train_data['Bookings_3m'], 'Forecast': forecast})\n",
        "print(comparison)\n"
      ],
      "metadata": {
        "colab": {
          "base_uri": "https://localhost:8080/"
        },
        "id": "y4OyTnSv0FFb",
        "outputId": "c2765d19-3f49-4595-930e-2eb305c907f1"
      },
      "execution_count": null,
      "outputs": [
        {
          "output_type": "stream",
          "name": "stdout",
          "text": [
            "            Actual     Forecast\n",
            "2019-10-31     4.0          NaN\n",
            "2020-01-31    36.0          NaN\n",
            "2020-04-30    29.0          NaN\n",
            "2020-07-31   124.0          NaN\n",
            "2020-10-31   724.0          NaN\n",
            "2021-01-31  4135.0          NaN\n",
            "2021-04-30  1586.0          NaN\n",
            "2021-07-31  1102.0          NaN\n",
            "2021-10-31  3424.0          NaN\n",
            "2022-01-31  2433.0          NaN\n",
            "2022-04-30  9657.0          NaN\n",
            "2022-07-31     NaN  5294.196326\n",
            "2022-10-31     NaN  8310.096336\n",
            "2023-01-31     NaN  6225.278052\n",
            "2023-04-30     NaN  7666.462197\n",
            "2023-07-31     NaN  6670.206669\n",
            "2023-10-31     NaN  7358.893871\n",
            "2024-01-31     NaN  6882.821168\n",
            "2024-04-30     NaN  7211.918642\n",
            "2024-07-31     NaN  6984.421567\n",
            "2024-10-31     NaN  7141.684759\n",
            "2025-01-31     NaN  7032.972541\n"
          ]
        }
      ]
    },
    {
      "cell_type": "code",
      "source": [
        "plt.rcParams.update({'figure.figsize':(9,7), 'figure.dpi':120})\n",
        "\n",
        "# Original Series\n",
        "fig, (ax1, ax2, ax3) = plt.subplots(3)\n",
        "ax1.plot(new_df.Bookings_3m); ax1.set_title('Original Series'); ax1.axes.xaxis.set_visible(False)\n",
        "# 1st Differencing\n",
        "ax2.plot(new_df.Bookings_3m.diff()); ax2.set_title('1st Order Differencing'); ax2.axes.xaxis.set_visible(False)\n",
        "# 2nd Differencing\n",
        "ax3.plot(new_df.Bookings_3m.diff().diff()); ax3.set_title('2nd Order Differencing')\n",
        "plt.show()"
      ],
      "metadata": {
        "colab": {
          "base_uri": "https://localhost:8080/",
          "height": 746
        },
        "id": "p3F6ZB7UntwH",
        "outputId": "dc317328-efc9-4414-d082-0e66848ac7eb"
      },
      "execution_count": null,
      "outputs": [
        {
          "output_type": "display_data",
          "data": {
            "text/plain": [
              "<Figure size 1080x840 with 3 Axes>"
            ],
            "image/png": "[encoded data removed]"
          },
          "metadata": {}
        }
      ]
    },
    {
      "cell_type": "markdown",
      "source": [
        "# SARIMA"
      ],
      "metadata": {
        "id": "jHaTH8n8ENIe"
      }
    },
    {
      "cell_type": "code",
      "source": [
        "import statsmodels.api as sm\n",
        "import numpy as np"
      ],
      "metadata": {
        "id": "D9TM2CEoANiF"
      },
      "execution_count": null,
      "outputs": []
    },
    {
      "cell_type": "code",
      "source": [
        "model_2 = sm.tsa.SARIMAX(train_data['Bookings_3m'], order=(1, 1, 1), seasonal_order=(1, 0, 1, 12))  # Adjust the order as needed\n",
        "model_2_fit = model_2.fit()"
      ],
      "metadata": {
        "colab": {
          "base_uri": "https://localhost:8080/"
        },
        "id": "GWqKzUAyDt45",
        "outputId": "d921d3c5-4043-4582-cb63-70db89820eba"
      },
      "execution_count": null,
      "outputs": [
        {
          "output_type": "stream",
          "name": "stderr",
          "text": [
            "/usr/local/lib/python3.10/dist-packages/statsmodels/tsa/base/tsa_model.py:471: ValueWarning: No frequency information was provided, so inferred frequency Q-OCT will be used.\n",
            "  self._init_dates(dates, freq)\n",
            "/usr/local/lib/python3.10/dist-packages/statsmodels/tsa/base/tsa_model.py:471: ValueWarning: No frequency information was provided, so inferred frequency Q-OCT will be used.\n",
            "  self._init_dates(dates, freq)\n"
          ]
        }
      ]
    },
    {
      "cell_type": "code",
      "source": [
        "forecast_2 = model_2_fit.get_forecast(steps=len(test_data))\n",
        "forecast_values = forecast_2.predicted_mean"
      ],
      "metadata": {
        "id": "-qEfNVtJDyLt"
      },
      "execution_count": null,
      "outputs": []
    },
    {
      "cell_type": "code",
      "source": [
        "comparison_2 = pd.DataFrame({'Actual': test_data['Bookings_3m'], 'Forecast': forecast_values})\n",
        "print(comparison_2)"
      ],
      "metadata": {
        "colab": {
          "base_uri": "https://localhost:8080/"
        },
        "id": "TOQ_EKb5D1u-",
        "outputId": "3f311a02-7ecb-45ee-d800-705a4a30f3d4"
      },
      "execution_count": null,
      "outputs": [
        {
          "output_type": "stream",
          "name": "stdout",
          "text": [
            "            Actual     Forecast\n",
            "2019-10-31     4.0          NaN\n",
            "2020-01-31    36.0          NaN\n",
            "2020-04-30    29.0          NaN\n",
            "2020-07-31   124.0          NaN\n",
            "2020-10-31   724.0          NaN\n",
            "2021-01-31  4135.0          NaN\n",
            "2021-04-30  1586.0          NaN\n",
            "2021-07-31  1102.0          NaN\n",
            "2021-10-31  3424.0          NaN\n",
            "2022-01-31  2433.0          NaN\n",
            "2022-04-30  9657.0          NaN\n",
            "2022-07-31     NaN  5293.679728\n",
            "2022-10-31     NaN  8310.373249\n",
            "2023-01-31     NaN  6224.679775\n",
            "2023-04-30     NaN  7666.667656\n",
            "2023-07-31     NaN  6669.646608\n",
            "2023-10-31     NaN  7358.483460\n",
            "2024-01-31     NaN  6879.480827\n",
            "2024-04-30     NaN  7210.789288\n",
            "2024-07-31     NaN  6983.349407\n",
            "2024-10-31     NaN  7139.163648\n",
            "2025-01-31     NaN  7030.994606\n"
          ]
        }
      ]
    },
    {
      "cell_type": "markdown",
      "source": [
        "# Max/Min Thresholds"
      ],
      "metadata": {
        "id": "G5poN97XD0eN"
      }
    },
    {
      "cell_type": "code",
      "source": [
        "bookings = new_df['Bookings_3m']"
      ],
      "metadata": {
        "id": "YSH88XwaD2eh"
      },
      "execution_count": null,
      "outputs": []
    },
    {
      "cell_type": "code",
      "source": [
        "train_data_3 = bookings.iloc[::]\n",
        "test_data_3 = bookings.iloc[::]"
      ],
      "metadata": {
        "id": "X2mJe3qvEEhk"
      },
      "execution_count": null,
      "outputs": []
    },
    {
      "cell_type": "code",
      "source": [
        "model_3 = ARIMA(train_data_3, order=(1, 0, 1))  # Adjust the order as needed\n",
        "model_3_fit = model_3.fit()"
      ],
      "metadata": {
        "colab": {
          "base_uri": "https://localhost:8080/"
        },
        "id": "gqfpiK6kESK3",
        "outputId": "e92520d9-ad2a-4687-de68-ce9980a6e2ce"
      },
      "execution_count": null,
      "outputs": [
        {
          "output_type": "stream",
          "name": "stderr",
          "text": [
            "/usr/local/lib/python3.10/dist-packages/statsmodels/tsa/base/tsa_model.py:471: ValueWarning: No frequency information was provided, so inferred frequency Q-OCT will be used.\n",
            "  self._init_dates(dates, freq)\n",
            "/usr/local/lib/python3.10/dist-packages/statsmodels/tsa/base/tsa_model.py:471: ValueWarning: No frequency information was provided, so inferred frequency Q-OCT will be used.\n",
            "  self._init_dates(dates, freq)\n",
            "/usr/local/lib/python3.10/dist-packages/statsmodels/tsa/base/tsa_model.py:471: ValueWarning: No frequency information was provided, so inferred frequency Q-OCT will be used.\n",
            "  self._init_dates(dates, freq)\n"
          ]
        }
      ]
    },
    {
      "cell_type": "code",
      "source": [
        "forecast_3 = model_3_fit.forecast(steps=len(test_data))\n",
        "forecast_3"
      ],
      "metadata": {
        "colab": {
          "base_uri": "https://localhost:8080/"
        },
        "id": "v947LaYlEVqZ",
        "outputId": "0420c14e-da09-4ffa-af59-704ff84545bb"
      },
      "execution_count": null,
      "outputs": [
        {
          "output_type": "execute_result",
          "data": {
            "text/plain": [
              "2022-07-31    5226.499995\n",
              "2022-10-31    4375.027840\n",
              "2023-01-31    3761.054239\n",
              "2023-04-30    3318.334437\n",
              "2023-07-31    2999.101131\n",
              "2023-10-31    2768.910605\n",
              "2024-01-31    2602.926426\n",
              "2024-04-30    2483.239713\n",
              "2024-07-31    2396.936852\n",
              "2024-10-31    2334.706187\n",
              "2025-01-31    2289.833334\n",
              "Freq: Q-OCT, Name: predicted_mean, dtype: float64"
            ]
          },
          "metadata": {},
          "execution_count": 20
        }
      ]
    },
    {
      "cell_type": "code",
      "source": [
        "max_threshold = 20000\n",
        "min_threshold = 1000"
      ],
      "metadata": {
        "id": "xxoDk7jCEilo"
      },
      "execution_count": null,
      "outputs": []
    },
    {
      "cell_type": "code",
      "source": [
        "forecast_3_bounded = np.clip(forecast_3, min_threshold, max_threshold)"
      ],
      "metadata": {
        "id": "31FEjxxLEnHa"
      },
      "execution_count": null,
      "outputs": []
    },
    {
      "cell_type": "code",
      "source": [
        "comparison = pd.DataFrame({'Actual': test_data_3, 'Forecast': forecast_3_bounded})\n",
        "print(comparison)"
      ],
      "metadata": {
        "colab": {
          "base_uri": "https://localhost:8080/"
        },
        "id": "JXqzWMzdEpKf",
        "outputId": "e8a4d4d8-5216-4579-bd9c-2fdad27eb137"
      },
      "execution_count": null,
      "outputs": [
        {
          "output_type": "stream",
          "name": "stdout",
          "text": [
            "            Actual     Forecast\n",
            "2019-10-31     4.0          NaN\n",
            "2020-01-31    36.0          NaN\n",
            "2020-04-30    29.0          NaN\n",
            "2020-07-31   124.0          NaN\n",
            "2020-10-31   724.0          NaN\n",
            "2021-01-31  4135.0          NaN\n",
            "2021-04-30  1586.0          NaN\n",
            "2021-07-31  1102.0          NaN\n",
            "2021-10-31  3424.0          NaN\n",
            "2022-01-31  2433.0          NaN\n",
            "2022-04-30  9657.0          NaN\n",
            "2022-07-31     NaN  5226.499995\n",
            "2022-10-31     NaN  4375.027840\n",
            "2023-01-31     NaN  3761.054239\n",
            "2023-04-30     NaN  3318.334437\n",
            "2023-07-31     NaN  2999.101131\n",
            "2023-10-31     NaN  2768.910605\n",
            "2024-01-31     NaN  2602.926426\n",
            "2024-04-30     NaN  2483.239713\n",
            "2024-07-31     NaN  2396.936852\n",
            "2024-10-31     NaN  2334.706187\n",
            "2025-01-31     NaN  2289.833334\n"
          ]
        }
      ]
    },
    {
      "cell_type": "markdown",
      "source": [
        "# Outliers Bound Detection"
      ],
      "metadata": {
        "id": "wKyUI0HS73Pq"
      }
    },
    {
      "cell_type": "code",
      "source": [
        "import pandas as pd\n",
        "import numpy as np\n",
        "from sklearn.preprocessing import MinMaxScaler\n",
        "from sklearn.linear_model import LinearRegression"
      ],
      "metadata": {
        "id": "d7n_qyjz72yh"
      },
      "execution_count": null,
      "outputs": []
    },
    {
      "cell_type": "code",
      "source": [
        "df = pd.read_csv('/content/sample_data/platform_3m_actuals_new.csv')\n",
        "new2_df = df[df['Platform'] == '8k_Chassis']\n",
        "data = new2_df['Bookings_3m'].values\n",
        "data = data.astype(float)\n",
        "upper_bound = np.max(data)\n",
        "lower_bound = np.min(data)"
      ],
      "metadata": {
        "id": "JbeZPqN78Q_F"
      },
      "execution_count": null,
      "outputs": []
    },
    {
      "cell_type": "code",
      "source": [
        "scaler = MinMaxScaler(feature_range=(0, 1))\n",
        "scaled_data = scaler.fit_transform(data.reshape(-1, 1))\n",
        "target_variable = df['Bookings_3m'].values\n",
        "model = LinearRegression()\n",
        "model.fit(scaled_data, target_variable)"
      ],
      "metadata": {
        "colab": {
          "base_uri": "https://localhost:8080/",
          "height": 74
        },
        "id": "jqSLLY2d8o7Q",
        "outputId": "cc8115d4-a008-4570-af34-afb19e1d2e21"
      },
      "execution_count": null,
      "outputs": [
        {
          "output_type": "execute_result",
          "data": {
            "text/plain": [
              "LinearRegression()"
            ],
            "text/html": [
              "<style>#sk-container-id-1 {color: black;background-color: white;}#sk-container-id-1 pre{padding: 0;}#sk-container-id-1 div.sk-toggleable {background-color: white;}#sk-container-id-1 label.sk-toggleable__label {cursor: pointer;display: block;width: 100%;margin-bottom: 0;padding: 0.3em;box-sizing: border-box;text-align: center;}#sk-container-id-1 label.sk-toggleable__label-arrow:before {content: \"▸\";float: left;margin-right: 0.25em;color: #696969;}#sk-container-id-1 label.sk-toggleable__label-arrow:hover:before {color: black;}#sk-container-id-1 div.sk-estimator:hover label.sk-toggleable__label-arrow:before {color: black;}#sk-container-id-1 div.sk-toggleable__content {max-height: 0;max-width: 0;overflow: hidden;text-align: left;background-color: #f0f8ff;}#sk-container-id-1 div.sk-toggleable__content pre {margin: 0.2em;color: black;border-radius: 0.25em;background-color: #f0f8ff;}#sk-container-id-1 input.sk-toggleable__control:checked~div.sk-toggleable__content {max-height: 200px;max-width: 100%;overflow: auto;}#sk-container-id-1 input.sk-toggleable__control:checked~label.sk-toggleable__label-arrow:before {content: \"▾\";}#sk-container-id-1 div.sk-estimator input.sk-toggleable__control:checked~label.sk-toggleable__label {background-color: #d4ebff;}#sk-container-id-1 div.sk-label input.sk-toggleable__control:checked~label.sk-toggleable__label {background-color: #d4ebff;}#sk-container-id-1 input.sk-hidden--visually {border: 0;clip: rect(1px 1px 1px 1px);clip: rect(1px, 1px, 1px, 1px);height: 1px;margin: -1px;overflow: hidden;padding: 0;position: absolute;width: 1px;}#sk-container-id-1 div.sk-estimator {font-family: monospace;background-color: #f0f8ff;border: 1px dotted black;border-radius: 0.25em;box-sizing: border-box;margin-bottom: 0.5em;}#sk-container-id-1 div.sk-estimator:hover {background-color: #d4ebff;}#sk-container-id-1 div.sk-parallel-item::after {content: \"\";width: 100%;border-bottom: 1px solid gray;flex-grow: 1;}#sk-container-id-1 div.sk-label:hover label.sk-toggleable__label {background-color: #d4ebff;}#sk-container-id-1 div.sk-serial::before {content: \"\";position: absolute;border-left: 1px solid gray;box-sizing: border-box;top: 0;bottom: 0;left: 50%;z-index: 0;}#sk-container-id-1 div.sk-serial {display: flex;flex-direction: column;align-items: center;background-color: white;padding-right: 0.2em;padding-left: 0.2em;position: relative;}#sk-container-id-1 div.sk-item {position: relative;z-index: 1;}#sk-container-id-1 div.sk-parallel {display: flex;align-items: stretch;justify-content: center;background-color: white;position: relative;}#sk-container-id-1 div.sk-item::before, #sk-container-id-1 div.sk-parallel-item::before {content: \"\";position: absolute;border-left: 1px solid gray;box-sizing: border-box;top: 0;bottom: 0;left: 50%;z-index: -1;}#sk-container-id-1 div.sk-parallel-item {display: flex;flex-direction: column;z-index: 1;position: relative;background-color: white;}#sk-container-id-1 div.sk-parallel-item:first-child::after {align-self: flex-end;width: 50%;}#sk-container-id-1 div.sk-parallel-item:last-child::after {align-self: flex-start;width: 50%;}#sk-container-id-1 div.sk-parallel-item:only-child::after {width: 0;}#sk-container-id-1 div.sk-dashed-wrapped {border: 1px dashed gray;margin: 0 0.4em 0.5em 0.4em;box-sizing: border-box;padding-bottom: 0.4em;background-color: white;}#sk-container-id-1 div.sk-label label {font-family: monospace;font-weight: bold;display: inline-block;line-height: 1.2em;}#sk-container-id-1 div.sk-label-container {text-align: center;}#sk-container-id-1 div.sk-container {/* jupyter's `normalize.less` sets `[hidden] { display: none; }` but bootstrap.min.css set `[hidden] { display: none !important; }` so we also need the `!important` here to be able to override the default hidden behavior on the sphinx rendered scikit-learn.org. See: https://github.com/scikit-learn/scikit-learn/issues/21755 */display: inline-block !important;position: relative;}#sk-container-id-1 div.sk-text-repr-fallback {display: none;}</style><div id=\"sk-container-id-1\" class=\"sk-top-container\"><div class=\"sk-text-repr-fallback\"><pre>LinearRegression()</pre><b>In a Jupyter environment, please rerun this cell to show the HTML representation or trust the notebook. <br />On GitHub, the HTML representation is unable to render, please try loading this page with nbviewer.org.</b></div><div class=\"sk-container\" hidden><div class=\"sk-item\"><div class=\"sk-estimator sk-toggleable\"><input class=\"sk-toggleable__control sk-hidden--visually\" id=\"sk-estimator-id-1\" type=\"checkbox\" checked><label for=\"sk-estimator-id-1\" class=\"sk-toggleable__label sk-toggleable__label-arrow\">LinearRegression</label><div class=\"sk-toggleable__content\"><pre>LinearRegression()</pre></div></div></div></div></div>"
            ]
          },
          "metadata": {},
          "execution_count": 26
        }
      ]
    },
    {
      "cell_type": "code",
      "source": [
        "new_data = pd.read_csv('/content/sample_data/platform_3m_actuals_new.csv')['Bookings_3m'].values\n",
        "scaled_new_data = scaler.transform(new_data.reshape(-1, 1))\n",
        "predictions = model.predict(scaled_new_data)"
      ],
      "metadata": {
        "id": "wBvIuoYK8yj7"
      },
      "execution_count": null,
      "outputs": []
    },
    {
      "cell_type": "code",
      "source": [
        "for i in range(11):\n",
        "    print(predictions[i])"
      ],
      "metadata": {
        "colab": {
          "base_uri": "https://localhost:8080/"
        },
        "id": "qxf1hQvc89Ra",
        "outputId": "7d888009-fce6-4fab-f376-a8f55cb101be"
      },
      "execution_count": null,
      "outputs": [
        {
          "output_type": "stream",
          "name": "stdout",
          "text": [
            "4.0\n",
            "36.0\n",
            "29.000000000000004\n",
            "124.0\n",
            "724.0\n",
            "4135.0\n",
            "1585.9999999999998\n",
            "1102.0\n",
            "3424.0\n",
            "2432.9999999999995\n",
            "9657.0\n"
          ]
        }
      ]
    },
    {
      "cell_type": "markdown",
      "source": [
        "# Testing for Unique/All Platforms"
      ],
      "metadata": {
        "id": "5bIj5zxgOWZK"
      }
    },
    {
      "cell_type": "code",
      "source": [
        "# df[df['Platform'] == '8k_Chassis']\n",
        "part_list = df['Platform'].unique().tolist()\n",
        "for idx, part in enumerate(part_list):\n",
        "    print(df[df['Platform'] == part_list[idx]]['Bookings_3m'].tolist())\n",
        "    print(part)\n",
        "    if idx == 2:\n",
        "        break\n"
      ],
      "metadata": {
        "id": "PwoKKhziOcIK",
        "colab": {
          "base_uri": "https://localhost:8080/"
        },
        "outputId": "33078add-4801-41c0-cb16-a6548f30ee13"
      },
      "execution_count": null,
      "outputs": [
        {
          "output_type": "stream",
          "name": "stdout",
          "text": [
            "[4.0, 36.0, 29.0, 124.0, 724.0, 4135.0, 1586.0, 1102.0, 3424.0, 2433.0, 9657.0]\n",
            "8k_Chassis\n",
            "[26.0, 146.0, 195.0, 1209.0, 4395.0, 1981.0, 2509.0, 5199.0, 5355.0, 13326.0]\n",
            "8k_Fabric Card\n",
            "[64.0, 26.0, 43.0, 288.0, 8927.0, 8687.0, 6053.0]\n",
            "8k_Fixed Chassis\n"
          ]
        }
      ]
    },
    {
      "cell_type": "code",
      "source": [],
      "metadata": {
        "id": "Bqz7Gi76Olyt"
      },
      "execution_count": null,
      "outputs": []
    },
    {
      "cell_type": "markdown",
      "source": [
        "# Outlier Detection with Forecast"
      ],
      "metadata": {
        "id": "R452DplXEasB"
      }
    },
    {
      "cell_type": "code",
      "source": [
        "QTR = [\"Q1FY23\", \"Q2FY23\", \"Q3FY23\", \"Q4FY23\"]"
      ],
      "metadata": {
        "id": "WCjtE_uAffg0"
      },
      "execution_count": null,
      "outputs": []
    },
    {
      "cell_type": "code",
      "source": [
        "import numpy as np\n",
        "from scipy.stats import median_abs_deviation\n",
        "from sklearn.ensemble import IsolationForest\n",
        "from sklearn.linear_model import LinearRegression"
      ],
      "metadata": {
        "id": "Gnj7I5EAEenv"
      },
      "execution_count": null,
      "outputs": []
    },
    {
      "cell_type": "code",
      "source": [
        "data = [4, 36, 29, 124, 724, 4135, 1586, 1102, 3424, 2433, 9657]\n",
        "platform = [\"8k_Chassis\"]\n",
        "# data = [4, 36, 29, 124, 724, 4135, 1586, 1102, 3424]\n",
        "# data = [26, 146, 195, 1209, 4395, 1981, 2509, 5199, 5355, 13326]\n",
        "# data = [26, 146, 195, 1209, 4395, 1981, 2509, 5199]\n",
        "# data = [64,  26,  43,  288,  8927,  8687,  6053]\n",
        "\n",
        "data = np.array(data)\n",
        "mad = median_abs_deviation(data)\n",
        "contamination = np.sum((np.abs(data - np.median(data))) > 3.5 * mad) / len(data)\n",
        "if contamination > 0.5:\n",
        "    contamination = 0.5\n",
        "print(contamination)\n",
        "\n",
        "num_future_steps = 4\n",
        "X_train = np.arange(len(data)).reshape(-1, 1)\n",
        "y_train = data.reshape(-1, 1)\n",
        "X_future = np.arange(len(data), len(data) + num_future_steps).reshape(-1, 1)\n",
        "\n",
        "outliers = []\n",
        "\n",
        "if contamination > 0:\n",
        "    model = IsolationForest(contamination=contamination)\n",
        "    model.fit(data.reshape(-1, 1))\n",
        "    outlier_status = model.predict(data.reshape(-1, 1))\n",
        "    outliers = data[outlier_status == -1]\n",
        "    data_no_outliers = data[outlier_status == 1]\n",
        "    X_train = np.arange(len(data_no_outliers)).reshape(-1, 1)\n",
        "    y_train = data_no_outliers.reshape(-1, 1)\n",
        "    X_future = np.arange(len(data_no_outliers), len(data_no_outliers) + num_future_steps).reshape(-1, 1)\n",
        "\n",
        "\n",
        "model = LinearRegression()\n",
        "model.fit(X_train, y_train)\n",
        "y_pred = model.predict(X_future)\n",
        "platforms = len(y_pred.flatten()) * platform\n",
        "print(\"Detected outliers:\", outliers)\n",
        "print(\"Forecasted values:\", y_pred.flatten())"
      ],
      "metadata": {
        "colab": {
          "base_uri": "https://localhost:8080/"
        },
        "id": "w0H7cU5zEcSK",
        "outputId": "9128ee00-fa06-466a-bc6a-142b9b38ad8f"
      },
      "execution_count": null,
      "outputs": [
        {
          "output_type": "stream",
          "name": "stdout",
          "text": [
            "0.09090909090909091\n",
            "Detected outliers: [9657]\n",
            "Forecasted values: [3317.66666667 3673.66060606 4029.65454545 4385.64848485]\n"
          ]
        }
      ]
    },
    {
      "cell_type": "code",
      "source": [
        "test = pd.DataFrame(columns=['Platform', 'Forecast_3m'])"
      ],
      "metadata": {
        "id": "vWqGDL_9VApR"
      },
      "execution_count": null,
      "outputs": []
    },
    {
      "cell_type": "code",
      "source": [
        "test['Forecast_3m'] = pd.Series(y_pred.flatten())\n",
        "test['Platform'] = pd.Series(platforms)"
      ],
      "metadata": {
        "colab": {
          "base_uri": "https://localhost:8080/",
          "height": 173
        },
        "id": "VYLhHFCLRWDl",
        "outputId": "16234c22-9b3a-4e51-dd0a-e5fa5710681f"
      },
      "execution_count": null,
      "outputs": [
        {
          "output_type": "execute_result",
          "data": {
            "text/plain": [
              "     Platform  Forecast_3m\n",
              "0  8k_Chassis  3317.666667\n",
              "1  8k_Chassis  3673.660606\n",
              "2  8k_Chassis  4029.654545\n",
              "3  8k_Chassis  4385.648485"
            ],
            "text/html": [
              "\n",
              "\n",
              "  <div id=\"df-fb83cc24-4887-458b-b2f7-74465b5357aa\">\n",
              "    <div class=\"colab-df-container\">\n",
              "      <div>\n",
              "<style scoped>\n",
              "    .dataframe tbody tr th:only-of-type {\n",
              "        vertical-align: middle;\n",
              "    }\n",
              "\n",
              "    .dataframe tbody tr th {\n",
              "        vertical-align: top;\n",
              "    }\n",
              "\n",
              "    .dataframe thead th {\n",
              "        text-align: right;\n",
              "    }\n",
              "</style>\n",
              "<table border=\"1\" class=\"dataframe\">\n",
              "  <thead>\n",
              "    <tr style=\"text-align: right;\">\n",
              "      <th></th>\n",
              "      <th>Platform</th>\n",
              "      <th>Forecast_3m</th>\n",
              "    </tr>\n",
              "  </thead>\n",
              "  <tbody>\n",
              "    <tr>\n",
              "      <th>0</th>\n",
              "      <td>8k_Chassis</td>\n",
              "      <td>3317.666667</td>\n",
              "    </tr>\n",
              "    <tr>\n",
              "      <th>1</th>\n",
              "      <td>8k_Chassis</td>\n",
              "      <td>3673.660606</td>\n",
              "    </tr>\n",
              "    <tr>\n",
              "      <th>2</th>\n",
              "      <td>8k_Chassis</td>\n",
              "      <td>4029.654545</td>\n",
              "    </tr>\n",
              "    <tr>\n",
              "      <th>3</th>\n",
              "      <td>8k_Chassis</td>\n",
              "      <td>4385.648485</td>\n",
              "    </tr>\n",
              "  </tbody>\n",
              "</table>\n",
              "</div>\n",
              "      <button class=\"colab-df-convert\" onclick=\"convertToInteractive('df-fb83cc24-4887-458b-b2f7-74465b5357aa')\"\n",
              "              title=\"Convert this dataframe to an interactive table.\"\n",
              "              style=\"display:none;\">\n",
              "\n",
              "  <svg xmlns=\"http://www.w3.org/2000/svg\" height=\"24px\"viewBox=\"0 0 24 24\"\n",
              "       width=\"24px\">\n",
              "    <path d=\"M0 0h24v24H0V0z\" fill=\"none\"/>\n",
              "    <path d=\"M18.56 5.44l.94 2.06.94-2.06 2.06-.94-2.06-.94-.94-2.06-.94 2.06-2.06.94zm-11 1L8.5 8.5l.94-2.06 2.06-.94-2.06-.94L8.5 2.5l-.94 2.06-2.06.94zm10 10l.94 2.06.94-2.06 2.06-.94-2.06-.94-.94-2.06-.94 2.06-2.06.94z\"/><path d=\"M17.41 7.96l-1.37-1.37c-.4-.4-.92-.59-1.43-.59-.52 0-1.04.2-1.43.59L10.3 9.45l-7.72 7.72c-.78.78-.78 2.05 0 2.83L4 21.41c.39.39.9.59 1.41.59.51 0 1.02-.2 1.41-.59l7.78-7.78 2.81-2.81c.8-.78.8-2.07 0-2.86zM5.41 20L4 18.59l7.72-7.72 1.47 1.35L5.41 20z\"/>\n",
              "  </svg>\n",
              "      </button>\n",
              "\n",
              "\n",
              "\n",
              "    <div id=\"df-9dff9b47-6132-40a1-b8c1-34ab00c48a39\">\n",
              "      <button class=\"colab-df-quickchart\" onclick=\"quickchart('df-9dff9b47-6132-40a1-b8c1-34ab00c48a39')\"\n",
              "              title=\"Suggest charts.\"\n",
              "              style=\"display:none;\">\n",
              "\n",
              "<svg xmlns=\"http://www.w3.org/2000/svg\" height=\"24px\"viewBox=\"0 0 24 24\"\n",
              "     width=\"24px\">\n",
              "    <g>\n",
              "        <path d=\"M19 3H5c-1.1 0-2 .9-2 2v14c0 1.1.9 2 2 2h14c1.1 0 2-.9 2-2V5c0-1.1-.9-2-2-2zM9 17H7v-7h2v7zm4 0h-2V7h2v10zm4 0h-2v-4h2v4z\"/>\n",
              "    </g>\n",
              "</svg>\n",
              "      </button>\n",
              "    </div>\n",
              "\n",
              "<style>\n",
              "  .colab-df-quickchart {\n",
              "    background-color: #E8F0FE;\n",
              "    border: none;\n",
              "    border-radius: 50%;\n",
              "    cursor: pointer;\n",
              "    display: none;\n",
              "    fill: #1967D2;\n",
              "    height: 32px;\n",
              "    padding: 0 0 0 0;\n",
              "    width: 32px;\n",
              "  }\n",
              "\n",
              "  .colab-df-quickchart:hover {\n",
              "    background-color: #E2EBFA;\n",
              "    box-shadow: 0px 1px 2px rgba(60, 64, 67, 0.3), 0px 1px 3px 1px rgba(60, 64, 67, 0.15);\n",
              "    fill: #174EA6;\n",
              "  }\n",
              "\n",
              "  [theme=dark] .colab-df-quickchart {\n",
              "    background-color: #3B4455;\n",
              "    fill: #D2E3FC;\n",
              "  }\n",
              "\n",
              "  [theme=dark] .colab-df-quickchart:hover {\n",
              "    background-color: #434B5C;\n",
              "    box-shadow: 0px 1px 3px 1px rgba(0, 0, 0, 0.15);\n",
              "    filter: drop-shadow(0px 1px 2px rgba(0, 0, 0, 0.3));\n",
              "    fill: #FFFFFF;\n",
              "  }\n",
              "</style>\n",
              "\n",
              "    <script>\n",
              "      async function quickchart(key) {\n",
              "        const containerElement = document.querySelector('#' + key);\n",
              "        const charts = await google.colab.kernel.invokeFunction(\n",
              "            'suggestCharts', [key], {});\n",
              "      }\n",
              "    </script>\n",
              "\n",
              "      <script>\n",
              "\n",
              "function displayQuickchartButton(domScope) {\n",
              "  let quickchartButtonEl =\n",
              "    domScope.querySelector('#df-9dff9b47-6132-40a1-b8c1-34ab00c48a39 button.colab-df-quickchart');\n",
              "  quickchartButtonEl.style.display =\n",
              "    google.colab.kernel.accessAllowed ? 'block' : 'none';\n",
              "}\n",
              "\n",
              "        displayQuickchartButton(document);\n",
              "      </script>\n",
              "      <style>\n",
              "    .colab-df-container {\n",
              "      display:flex;\n",
              "      flex-wrap:wrap;\n",
              "      gap: 12px;\n",
              "    }\n",
              "\n",
              "    .colab-df-convert {\n",
              "      background-color: #E8F0FE;\n",
              "      border: none;\n",
              "      border-radius: 50%;\n",
              "      cursor: pointer;\n",
              "      display: none;\n",
              "      fill: #1967D2;\n",
              "      height: 32px;\n",
              "      padding: 0 0 0 0;\n",
              "      width: 32px;\n",
              "    }\n",
              "\n",
              "    .colab-df-convert:hover {\n",
              "      background-color: #E2EBFA;\n",
              "      box-shadow: 0px 1px 2px rgba(60, 64, 67, 0.3), 0px 1px 3px 1px rgba(60, 64, 67, 0.15);\n",
              "      fill: #174EA6;\n",
              "    }\n",
              "\n",
              "    [theme=dark] .colab-df-convert {\n",
              "      background-color: #3B4455;\n",
              "      fill: #D2E3FC;\n",
              "    }\n",
              "\n",
              "    [theme=dark] .colab-df-convert:hover {\n",
              "      background-color: #434B5C;\n",
              "      box-shadow: 0px 1px 3px 1px rgba(0, 0, 0, 0.15);\n",
              "      filter: drop-shadow(0px 1px 2px rgba(0, 0, 0, 0.3));\n",
              "      fill: #FFFFFF;\n",
              "    }\n",
              "  </style>\n",
              "\n",
              "      <script>\n",
              "        const buttonEl =\n",
              "          document.querySelector('#df-fb83cc24-4887-458b-b2f7-74465b5357aa button.colab-df-convert');\n",
              "        buttonEl.style.display =\n",
              "          google.colab.kernel.accessAllowed ? 'block' : 'none';\n",
              "\n",
              "        async function convertToInteractive(key) {\n",
              "          const element = document.querySelector('#df-fb83cc24-4887-458b-b2f7-74465b5357aa');\n",
              "          const dataTable =\n",
              "            await google.colab.kernel.invokeFunction('convertToInteractive',\n",
              "                                                     [key], {});\n",
              "          if (!dataTable) return;\n",
              "\n",
              "          const docLinkHtml = 'Like what you see? Visit the ' +\n",
              "            '<a target=\"_blank\" href=https://colab.research.google.com/notebooks/data_table.ipynb>data table notebook</a>'\n",
              "            + ' to learn more about interactive tables.';\n",
              "          element.innerHTML = '';\n",
              "          dataTable['output_type'] = 'display_data';\n",
              "          await google.colab.output.renderOutput(dataTable, element);\n",
              "          const docLink = document.createElement('div');\n",
              "          docLink.innerHTML = docLinkHtml;\n",
              "          element.appendChild(docLink);\n",
              "        }\n",
              "      </script>\n",
              "    </div>\n",
              "  </div>\n"
            ]
          },
          "metadata": {},
          "execution_count": 24
        }
      ]
    },
    {
      "cell_type": "markdown",
      "source": [
        "# Combined Outlier Detection Forecasting"
      ],
      "metadata": {
        "id": "CVoWXOPx1qdU"
      }
    },
    {
      "cell_type": "code",
      "source": [
        "import pandas as pd\n",
        "import numpy as np\n",
        "from scipy.stats import median_abs_deviation\n",
        "from sklearn.ensemble import IsolationForest\n",
        "from sklearn.linear_model import LinearRegression"
      ],
      "metadata": {
        "id": "p1Wk1Z3u15gU"
      },
      "execution_count": null,
      "outputs": []
    },
    {
      "cell_type": "code",
      "source": [
        "forecast_df = pd.DataFrame(columns=['Platform', 'Forecast_3m'])"
      ],
      "metadata": {
        "id": "1dDKKR8_3yyP"
      },
      "execution_count": null,
      "outputs": []
    },
    {
      "cell_type": "code",
      "source": [
        "df = pd.read_csv('/content/sample_data/platform_3m_actuals_new.csv')\n",
        "\n",
        "c = []\n",
        "d = []\n",
        "part_list = df['Platform'].unique().tolist()\n",
        "for idx, part in enumerate(part_list):\n",
        "    data = np.array(df[df['Platform'] == part_list[idx]]['Bookings_3m'].tolist())\n",
        "    mad = median_abs_deviation(data)\n",
        "    contamination = np.sum((np.abs(data - np.median(data))) > 3.5 * mad) / len(data)\n",
        "    if contamination > 0.5:\n",
        "        contamination = 0.5\n",
        "\n",
        "    num_future_steps = 4\n",
        "    X_train = np.arange(len(data)).reshape(-1, 1)\n",
        "    y_train = data.reshape(-1, 1)\n",
        "    X_future = np.arange(len(data), len(data) + num_future_steps).reshape(-1, 1)\n",
        "\n",
        "    outliers = []\n",
        "    if contamination > 0:\n",
        "        model = IsolationForest(contamination=contamination)\n",
        "        model.fit(data.reshape(-1, 1))\n",
        "        outlier_status = model.predict(data.reshape(-1, 1))\n",
        "        outliers = data[outlier_status == -1]\n",
        "        data_no_outliers = data[outlier_status == 1]\n",
        "        X_train = np.arange(len(data_no_outliers)).reshape(-1, 1)\n",
        "        y_train = data_no_outliers.reshape(-1, 1)\n",
        "        X_future = np.arange(len(data_no_outliers), len(data_no_outliers) + num_future_steps).reshape(-1, 1)\n",
        "\n",
        "    model = LinearRegression()\n",
        "    model.fit(X_train, y_train)\n",
        "    y_pred = model.predict(X_future)\n",
        "    platforms = len(y_pred.flatten()) * part\n",
        "    c.extend(y_pred.flatten())\n",
        "    d.extend([part] * len(y_pred.flatten()))\n"
      ],
      "metadata": {
        "id": "7NBmCfsCRWyU"
      },
      "execution_count": null,
      "outputs": []
    },
    {
      "cell_type": "code",
      "source": [
        "#pd.Series(c)\n",
        "#pd.Series(d)\n",
        "forecast_df['Forecast_3m'] = pd.Series(c)\n",
        "forecast_df['Platform'] = pd.Series(d)\n",
        "forecast_df"
      ],
      "metadata": {
        "id": "uoOodRZN99IW"
      },
      "execution_count": null,
      "outputs": []
    },
    {
      "cell_type": "code",
      "source": [
        "from google.colab import files\n",
        "forecast_df.to_csv('test.csv', encoding='utf-8')\n",
        "files.download('test.csv')"
      ],
      "metadata": {
        "colab": {
          "base_uri": "https://localhost:8080/",
          "height": 17
        },
        "id": "VXHtvNyK_bnq",
        "outputId": "03b393eb-e7de-46d8-bece-8202625d9f73"
      },
      "execution_count": null,
      "outputs": [
        {
          "output_type": "display_data",
          "data": {
            "text/plain": [
              "<IPython.core.display.Javascript object>"
            ],
            "application/javascript": [
              "\n",
              "    async function download(id, filename, size) {\n",
              "      if (!google.colab.kernel.accessAllowed) {\n",
              "        return;\n",
              "      }\n",
              "      const div = document.createElement('div');\n",
              "      const label = document.createElement('label');\n",
              "      label.textContent = `Downloading \"${filename}\": `;\n",
              "      div.appendChild(label);\n",
              "      const progress = document.createElement('progress');\n",
              "      progress.max = size;\n",
              "      div.appendChild(progress);\n",
              "      document.body.appendChild(div);\n",
              "\n",
              "      const buffers = [];\n",
              "      let downloaded = 0;\n",
              "\n",
              "      const channel = await google.colab.kernel.comms.open(id);\n",
              "      // Send a message to notify the kernel that we're ready.\n",
              "      channel.send({})\n",
              "\n",
              "      for await (const message of channel.messages) {\n",
              "        // Send a message to notify the kernel that we're ready.\n",
              "        channel.send({})\n",
              "        if (message.buffers) {\n",
              "          for (const buffer of message.buffers) {\n",
              "            buffers.push(buffer);\n",
              "            downloaded += buffer.byteLength;\n",
              "            progress.value = downloaded;\n",
              "          }\n",
              "        }\n",
              "      }\n",
              "      const blob = new Blob(buffers, {type: 'application/binary'});\n",
              "      const a = document.createElement('a');\n",
              "      a.href = window.URL.createObjectURL(blob);\n",
              "      a.download = filename;\n",
              "      div.appendChild(a);\n",
              "      a.click();\n",
              "      div.remove();\n",
              "    }\n",
              "  "
            ]
          },
          "metadata": {}
        },
        {
          "output_type": "display_data",
          "data": {
            "text/plain": [
              "<IPython.core.display.Javascript object>"
            ],
            "application/javascript": [
              "download(\"download_3b54feef-dd82-4919-80cb-56b5be0a308c\", \"test.csv\", 29222)"
            ]
          },
          "metadata": {}
        }
      ]
    },
    {
      "cell_type": "code",
      "source": [],
      "metadata": {
        "id": "navYmAl7JPQb"
      },
      "execution_count": null,
      "outputs": []
    }
  ]
}